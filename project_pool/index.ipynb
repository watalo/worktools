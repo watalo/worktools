{
 "metadata": {
  "language_info": {
   "codemirror_mode": {
    "name": "ipython",
    "version": 3
   },
   "file_extension": ".py",
   "mimetype": "text/x-python",
   "name": "python",
   "nbconvert_exporter": "python",
   "pygments_lexer": "ipython3",
   "version": "3.9.0-final"
  },
  "orig_nbformat": 2,
  "kernelspec": {
   "name": "python3",
   "display_name": "Python 3.9.0 64-bit ('venv')",
   "metadata": {
    "interpreter": {
     "hash": "1ee744fdee3946c2af2bdc58f3796819357ed068616caa870dc20aacb53d0af6"
    }
   }
  }
 },
 "nbformat": 4,
 "nbformat_minor": 2,
 "cells": [
  {
   "source": [],
   "cell_type": "markdown",
   "metadata": {}
  },
  {
   "source": [
    "#1、项目信息输入：\n",
    "按照提示进行录入以下信息：\n",
    "#1、企业名称\n",
    "#2、主办人员\n",
    "#3、总金额\n",
    "#4、方案对象（会提示录入新的信息）"
   ],
   "cell_type": "markdown",
   "metadata": {}
  },
  {
   "cell_type": "code",
   "execution_count": 16,
   "metadata": {},
   "outputs": [
    {
     "output_type": "execute_result",
     "data": {
      "text/plain": [
       "'2021-03-06 01:24:45:方案待定'"
      ]
     },
     "metadata": {},
     "execution_count": 16
    }
   ],
   "source": [
    "#1、新增授信项目\n",
    "from bin import pool, prod, proj\n",
    "# 项目的基本要素\n",
    "name = '宜昌东阳光药业股份有限公司'\n",
    "member = '杨佳琪'\n",
    "# 贷款产品的要素\n",
    "pd = prod.Loans(9000)\n",
    "pd2 = prod.Loans(4000)\n",
    "pd3 = prod.Notes(3000,1500)\n",
    "pj = proj.Inflow(name, member)\n",
    "pj.scheme_add(pd)\n",
    "pj.scheme_add(pd2)\n",
    "pj.scheme_add(pd3)\n",
    "p.scheme_info()\n",
    "# pool = pool.Pool()\n",
    "# pool.insert(p, 'inflow')\n",
    "\n"
   ]
  },
  {
   "cell_type": "code",
   "execution_count": 17,
   "metadata": {},
   "outputs": [
    {
     "output_type": "stream",
     "name": "stdout",
     "text": [
      "贷款额度9000万元\n"
     ]
    },
    {
     "output_type": "execute_result",
     "data": {
      "text/plain": [
       "'2021-03-06 01:24:47:方案待定'"
      ]
     },
     "metadata": {},
     "execution_count": 17
    }
   ],
   "source": [
    "from bin import conf, pool, prod, proj\n",
    "x = prod.Loans(9000)\n",
    "print(x.info())\n",
    "pj = proj.Inflow('东阳光', '杨佳琪')\n",
    "pj.scheme_add(x)\n",
    "pj.scheme_info()"
   ]
  },
  {
   "cell_type": "code",
   "execution_count": null,
   "metadata": {},
   "outputs": [],
   "source": []
  }
 ]
}