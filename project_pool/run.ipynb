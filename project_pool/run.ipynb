{
 "metadata": {
  "language_info": {
   "codemirror_mode": {
    "name": "ipython",
    "version": 3
   },
   "file_extension": ".py",
   "mimetype": "text/x-python",
   "name": "python",
   "nbconvert_exporter": "python",
   "pygments_lexer": "ipython3",
   "version": "3.9.2"
  },
  "orig_nbformat": 2,
  "kernelspec": {
   "name": "python3",
   "display_name": "Python 3",
   "language": "python"
  }
 },
 "nbformat": 4,
 "nbformat_minor": 2,
 "cells": [
  {
   "source": [
    "##\"PROJ-POOL\"项目管理软件\n",
    "\n",
    "使用说明：\n",
    "    使用文件中的集成命令进行项目新增、删除、修改、汇报模版输出等工作。\n",
    "    进行操作前请先打开数据库连接\n",
    "命令模块：\\n\n",
    "    - 1.新增：\n",
    "        - 1.1.新增团队成员\n",
    "        - 1.1.新增授信项目\n",
    "        - 1.1.新增产品投放\n",
    "    - 2.修改\n",
    "        - 2.1.修改项目信息（状态、管户人员）\n",
    "        - 2.2.修改产品信息（余额）\n",
    "    - 3.删除\n",
    "        - 3.1.删除成员\n",
    "        - 3.1.删除项目\n",
    "        - 3.1.删除产品\n",
    "    - 4.输出：不支持word版输出\n",
    "        - 按要求进行各种输出\n",
    "\n",
    "@版本号：0.0.1\n",
    "@作者：watalo"
   ],
   "cell_type": "code",
   "metadata": {},
   "execution_count": null,
   "outputs": []
  },
  {
   "cell_type": "code",
   "execution_count": null,
   "metadata": {},
   "outputs": [],
   "source": [
    "#初始化数据库，连接数据库\n",
    "from my_app import *\n",
    "db_init()\n",
    "db_connect()"
   ]
  },
  {
   "cell_type": "code",
   "execution_count": null,
   "metadata": {},
   "outputs": [],
   "source": [
    "# 1.1 新增成员\n",
    "from my_app import new_member\n",
    "\n",
    "name = '吴然' # <--输入新成员姓名\n",
    "\n",
    "new_member(name)"
   ]
  },
  {
   "cell_type": "code",
   "execution_count": null,
   "metadata": {},
   "outputs": [],
   "source": [
    "\n",
    "# 1.2 新增项目\n",
    "from my_app import new_project\n",
    "'''\n",
    "录入信息\n",
    "'''\n",
    "name         = '迪斯科科技（宜昌）有限责任公司'\n",
    "member_name  = '吴然'\n",
    "status       = '已批复'\n",
    "scheme       = '名义额度9000W，敞口4000W，方案调整'\n",
    "\n",
    "#########\n",
    "new_project(name, member_name, scheme)"
   ]
  },
  {
   "cell_type": "code",
   "execution_count": null,
   "metadata": {},
   "outputs": [],
   "source": [
    "# 1.3 新增投放\n",
    "from my_app import new_product\n",
    "from datetime import date\n",
    "\n",
    "#----------------------------------#\n",
    "'''\n",
    "录入产品信息\n",
    "'''\n",
    "name = '宜昌东阳光药业股份有限公司'\n",
    "catagory = '流动资金贷款'\n",
    "amount = 5000\n",
    "balance = 5000\n",
    "bargain = 5000 \n",
    "start_date = date(2020, 3, 26) \n",
    "end_date = date(2021, 3, 25)\n",
    "\n",
    "#----------------------------------#\n",
    "new_product(name_ = name, \n",
    "            catagory_ = catagory, \n",
    "            amount_ = amount,\n",
    "            balance_ = balance,\n",
    "            bargain_ = bargain,\n",
    "            start_date_ = start_date,\n",
    "            end_date_ = end_date\n",
    "            )"
   ]
  },
  {
   "cell_type": "code",
   "execution_count": null,
   "metadata": {},
   "outputs": [],
   "source": [
    "# 2.1 修改团队成员\n",
    "from my_app import change_menb\n",
    "\n",
    "\n",
    "old = 'wuran'\n",
    "new = '吴然'\n",
    "\n",
    "#---------------#\n",
    "change_menb(old, new)\n",
    "\n"
   ]
  },
  {
   "cell_type": "code",
   "execution_count": 1,
   "metadata": {},
   "outputs": [
    {
     "output_type": "execute_result",
     "data": {
      "text/plain": [
       "'修改成功！'"
      ]
     },
     "metadata": {},
     "execution_count": 1
    }
   ],
   "source": [
    "# 2.2 修改项目信息\n",
    "from my_app import change_proj\n",
    "# '-n', '-m', '-s', '-sh'中选择\n",
    "attr_opt = '-sh'\n",
    "# 索引名字\n",
    "name = '宜昌东阳光药业股份有限公司'\n",
    "new = '已获得批复，准备于近期投放。'\n",
    "\n",
    "#---------------#\n",
    "change_proj(attr_opt, name, new)"
   ]
  },
  {
   "cell_type": "code",
   "execution_count": 2,
   "metadata": {},
   "outputs": [
    {
     "output_type": "error",
     "ename": "IndentationError",
     "evalue": "unexpected indent (<ipython-input-2-4bff485eaf06>, line 2)",
     "traceback": [
      "\u001b[0;36m  File \u001b[0;32m\"<ipython-input-2-4bff485eaf06>\"\u001b[0;36m, line \u001b[0;32m2\u001b[0m\n\u001b[0;31m    '''\u001b[0m\n\u001b[0m    ^\u001b[0m\n\u001b[0;31mIndentationError\u001b[0m\u001b[0;31m:\u001b[0m unexpected indent\n"
     ]
    }
   ],
   "source": [
    "# 2.3 修改产品信息\n",
    " '''\n",
    " 关于这个功能，我觉得直接把产品删了重来可能更有效些。\n",
    " '''"
   ]
  },
  {
   "cell_type": "code",
   "execution_count": null,
   "metadata": {},
   "outputs": [],
   "source": [
    "# 3.1 删除"
   ]
  }
 ]
}