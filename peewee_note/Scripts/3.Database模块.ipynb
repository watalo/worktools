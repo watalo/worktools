{
 "metadata": {
  "language_info": {
   "codemirror_mode": {
    "name": "ipython",
    "version": 3
   },
   "file_extension": ".py",
   "mimetype": "text/x-python",
   "name": "python",
   "nbconvert_exporter": "python",
   "pygments_lexer": "ipython3",
   "version": "3.9.0-final"
  },
  "orig_nbformat": 2,
  "kernelspec": {
   "name": "python3",
   "display_name": "Python 3.9.0 64-bit ('venv')",
   "metadata": {
    "interpreter": {
     "hash": "1ee744fdee3946c2af2bdc58f3796819357ed068616caa870dc20aacb53d0af6"
    }
   }
  }
 },
 "nbformat": 4,
 "nbformat_minor": 2,
 "cells": [
  {
   "cell_type": "code",
   "execution_count": 1,
   "metadata": {},
   "outputs": [],
   "source": [
    "## 基本操作\n",
    "\n",
    "from peewee import *\n",
    "\n",
    "# SQLite database using WAL journal mode and 64MB cache.\n",
    "sqlite_db = SqliteDatabase('/path/to/app.db', pragmas={\n",
    "    'journal_mode': 'wal',\n",
    "    'cache_size': -1024 * 64})\n"
   ]
  },
  {
   "cell_type": "code",
   "execution_count": 4,
   "metadata": {},
   "outputs": [],
   "source": [
    "## SQLite的扩展\n",
    "from playhouse.sqlite_ext import SqliteExtDatabase\n",
    "\n",
    "# Use SQLite (will register a REGEXP function and set busy timeout to 3s).\n",
    "db = SqliteExtDatabase('people.db',\n",
    "                       regexp_function=True,\n",
    "                       timeout = 4,\n",
    "                       pragmas = {\n",
    "                           'journal_mode': 'wal',\n",
    "                       } )\n"
   ]
  },
  {
   "cell_type": "code",
   "execution_count": 5,
   "metadata": {},
   "outputs": [],
   "source": [
    "db.pragma('cache_size', -1024 *64)"
   ]
  },
  {
   "cell_type": "code",
   "execution_count": 16,
   "metadata": {},
   "outputs": [
    {
     "output_type": "stream",
     "name": "stdout",
     "text": [
      "cache_size: -65536\nforeign_keys: 0\njournal_mode: wal\npage_size: 4096\n[]\n"
     ]
    }
   ],
   "source": [
    "print('cache_size:', db.cache_size)\n",
    "print('foreign_keys:', db.foreign_keys)\n",
    "print('journal_mode:', db.journal_mode)\n",
    "print('page_size:', db.page_size)\n",
    "print(db._table_functions)"
   ]
  },
  {
   "cell_type": "code",
   "execution_count": 15,
   "metadata": {},
   "outputs": [],
   "source": [
    "db.pragma('foreign_keys', 0, permanent= True)"
   ]
  },
  {
   "cell_type": "code",
   "execution_count": 17,
   "metadata": {},
   "outputs": [],
   "source": [
    "#用户自定义函数部分没有看懂，装饰器的用法也忘记了"
   ]
  },
  {
   "cell_type": "code",
   "execution_count": 22,
   "metadata": {},
   "outputs": [],
   "source": [
    "# 在程序运行时设置数据库的三种方法\n",
    "#1 \n",
    "db_1 = SqliteDatabase('my_app.db', pragmas = {'journal_mode':'wal'})\n",
    "\n",
    "#2\n",
    "db_2 = SqliteDatabase(None)\n",
    "\n",
    "db_2.init('de_filename.db', pragmas={'journal_mode':'wal'})\n",
    "\n",
    "#3\n",
    "db_3 = DatabaseProxy()\n",
    "\n",
    "db_3.initialize(db_1)\n"
   ]
  },
  {
   "cell_type": "code",
   "execution_count": 24,
   "metadata": {},
   "outputs": [
    {
     "output_type": "error",
     "ename": "OperationalError",
     "evalue": "Connection already opened.",
     "traceback": [
      "\u001b[1;31m---------------------------------------------------------------------------\u001b[0m",
      "\u001b[1;31mOperationalError\u001b[0m                          Traceback (most recent call last)",
      "\u001b[1;32m<ipython-input-24-4986046919b9>\u001b[0m in \u001b[0;36m<module>\u001b[1;34m\u001b[0m\n\u001b[1;32m----> 1\u001b[1;33m \u001b[0mdb_1\u001b[0m\u001b[1;33m.\u001b[0m\u001b[0mconnect\u001b[0m\u001b[1;33m(\u001b[0m\u001b[1;33m)\u001b[0m\u001b[1;33m\u001b[0m\u001b[1;33m\u001b[0m\u001b[0m\n\u001b[0m",
      "\u001b[1;32me:\\worktools\\venv\\lib\\site-packages\\peewee.py\u001b[0m in \u001b[0;36mconnect\u001b[1;34m(self, reuse_if_open)\u001b[0m\n\u001b[0;32m   3067\u001b[0m                 \u001b[1;32mif\u001b[0m \u001b[0mreuse_if_open\u001b[0m\u001b[1;33m:\u001b[0m\u001b[1;33m\u001b[0m\u001b[1;33m\u001b[0m\u001b[0m\n\u001b[0;32m   3068\u001b[0m                     \u001b[1;32mreturn\u001b[0m \u001b[1;32mFalse\u001b[0m\u001b[1;33m\u001b[0m\u001b[1;33m\u001b[0m\u001b[0m\n\u001b[1;32m-> 3069\u001b[1;33m                 \u001b[1;32mraise\u001b[0m \u001b[0mOperationalError\u001b[0m\u001b[1;33m(\u001b[0m\u001b[1;34m'Connection already opened.'\u001b[0m\u001b[1;33m)\u001b[0m\u001b[1;33m\u001b[0m\u001b[1;33m\u001b[0m\u001b[0m\n\u001b[0m\u001b[0;32m   3070\u001b[0m \u001b[1;33m\u001b[0m\u001b[0m\n\u001b[0;32m   3071\u001b[0m             \u001b[0mself\u001b[0m\u001b[1;33m.\u001b[0m\u001b[0m_state\u001b[0m\u001b[1;33m.\u001b[0m\u001b[0mreset\u001b[0m\u001b[1;33m(\u001b[0m\u001b[1;33m)\u001b[0m\u001b[1;33m\u001b[0m\u001b[1;33m\u001b[0m\u001b[0m\n",
      "\u001b[1;31mOperationalError\u001b[0m: Connection already opened."
     ]
    }
   ],
   "source": [
    "db_1.connect()"
   ]
  },
  {
   "cell_type": "code",
   "execution_count": 25,
   "metadata": {},
   "outputs": [
    {
     "output_type": "execute_result",
     "data": {
      "text/plain": [
       "False"
      ]
     },
     "metadata": {},
     "execution_count": 25
    }
   ],
   "source": [
    "db_1.connect(reuse_if_open=True)"
   ]
  },
  {
   "cell_type": "code",
   "execution_count": 27,
   "metadata": {},
   "outputs": [
    {
     "output_type": "execute_result",
     "data": {
      "text/plain": [
       "False"
      ]
     },
     "metadata": {},
     "execution_count": 27
    }
   ],
   "source": [
    "db_1.close()"
   ]
  },
  {
   "cell_type": "code",
   "execution_count": 28,
   "metadata": {},
   "outputs": [
    {
     "output_type": "execute_result",
     "data": {
      "text/plain": [
       "<bound method Database.is_closed of <peewee.SqliteDatabase object at 0x00000186F22BAB80>>"
      ]
     },
     "metadata": {},
     "execution_count": 28
    }
   ],
   "source": [
    "db_2.is_closed"
   ]
  },
  {
   "cell_type": "code",
   "execution_count": 30,
   "metadata": {},
   "outputs": [
    {
     "output_type": "execute_result",
     "data": {
      "text/plain": [
       "False"
      ]
     },
     "metadata": {},
     "execution_count": 30
    }
   ],
   "source": [
    "db_2.connect(reuse_if_open=True)"
   ]
  },
  {
   "cell_type": "code",
   "execution_count": 35,
   "metadata": {},
   "outputs": [
    {
     "output_type": "execute_result",
     "data": {
      "text/plain": [
       "True"
      ]
     },
     "metadata": {},
     "execution_count": 35
    }
   ],
   "source": [
    "db_2.is_closed()"
   ]
  },
  {
   "cell_type": "code",
   "execution_count": 34,
   "metadata": {},
   "outputs": [
    {
     "output_type": "stream",
     "name": "stdout",
     "text": [
      "False\n"
     ]
    }
   ],
   "source": [
    "with db_2:\n",
    "    print(db.is_closed())"
   ]
  },
  {
   "cell_type": "code",
   "execution_count": 32,
   "metadata": {},
   "outputs": [
    {
     "output_type": "execute_result",
     "data": {
      "text/plain": [
       "True"
      ]
     },
     "metadata": {},
     "execution_count": 32
    }
   ],
   "source": [
    "db_2.close()"
   ]
  },
  {
   "cell_type": "code",
   "execution_count": 39,
   "metadata": {},
   "outputs": [
    {
     "output_type": "stream",
     "name": "stdout",
     "text": [
      "True\nFalse\n"
     ]
    }
   ],
   "source": [
    "with db_1.connection_context():\n",
    "    print(db_1.is_connection_usable())\n",
    "    print(db_1.is_closed())"
   ]
  },
  {
   "cell_type": "code",
   "execution_count": 40,
   "metadata": {},
   "outputs": [],
   "source": [
    "# 等下认真学习下装饰器的玩法，这里基本都在用"
   ]
  },
  {
   "cell_type": "code",
   "execution_count": 41,
   "metadata": {},
   "outputs": [],
   "source": [
    "from playhouse.pool import PooledSqliteDatabase\n",
    "\n",
    "db = PooledSqliteDatabase(\n",
    "    'my_app.db', \n",
    "    max_connections= 30, # 最大连接数\n",
    "    stale_timeout= 300, # 过期时间\n",
    "    pragmas = {  # 其他参数\n",
    "        'journal_mode': 'wal'\n",
    "    })\n",
    "\n",
    "class BaseModel(Model):\n",
    "    class Meta:\n",
    "        database = db"
   ]
  },
  {
   "cell_type": "code",
   "execution_count": 45,
   "metadata": {},
   "outputs": [],
   "source": [
    "import unittest\n",
    "from peewee import *\n",
    "\n",
    "test_db = SqliteDatabase(':memory:')\n",
    "\n",
    "class User(BaseModel):\n",
    "    pass\n",
    "\n",
    "class Tweet(BaseModel):\n",
    "    pass\n",
    "\n",
    "class EventLog(BaseModel):\n",
    "    pass\n",
    "\n",
    "class Relationship(BaseModel):\n",
    "    pass\n",
    "\n",
    "MODELS = [User, Tweet, EventLog, Relationship]\n",
    "\n",
    "class BaseTestCase(unittest.TestCase):\n",
    "    def setup(self):\n",
    "        test_db.bind(# 3个参数\n",
    "            MODELS,  # 准备绑定的Models\n",
    "            bind_refs=False,  # 绑定引用的模型\n",
    "            bind_backrefs=False) # 绑定反向引用的模型\n",
    "        test_db.connect() \n",
    "        test_db.create_tables(MODELS)\n",
    "\n",
    "    def tearDown(self):\n",
    "        test_db.drop_tables(MODELS)\n",
    "        test_db.close()\n",
    "\n",
    "test_db.bind()\n",
    "\n",
    "x = BaseTestCase()\n",
    "x.setup()\n",
    "x.tearDown()\n",
    "\n",
    "\n"
   ]
  },
  {
   "cell_type": "code",
   "execution_count": 46,
   "metadata": {},
   "outputs": [],
   "source": [
    "# 与flask框架完美集成\n",
    "\n",
    "from flask import Flask\n",
    "from peewee import *\n",
    "\n",
    "database = SqliteDatabase('my_app.db')\n",
    "app = Flask(__name__)\n",
    "\n",
    "# This hook ensures that a connection is opened to handle any queries\n",
    "# generated by the request.\n",
    "@app.before_request\n",
    "def _db_connect():\n",
    "    database.connect()\n",
    "\n",
    "# This hook ensures that the connection is closed when we've finished\n",
    "# processing the request.\n",
    "@app.teardown_request\n",
    "def _db_close(exc):\n",
    "    if not database.is_closed():\n",
    "        database.close()"
   ]
  },
  {
   "cell_type": "code",
   "execution_count": null,
   "metadata": {},
   "outputs": [],
   "source": []
  }
 ]
}