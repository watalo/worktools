{
 "metadata": {
  "language_info": {
   "codemirror_mode": {
    "name": "ipython",
    "version": 3
   },
   "file_extension": ".py",
   "mimetype": "text/x-python",
   "name": "python",
   "nbconvert_exporter": "python",
   "pygments_lexer": "ipython3",
   "version": "3.9.0-final"
  },
  "orig_nbformat": 2,
  "kernelspec": {
   "name": "python3",
   "display_name": "Python 3.9.0 64-bit ('venv')",
   "metadata": {
    "interpreter": {
     "hash": "1ee744fdee3946c2af2bdc58f3796819357ed068616caa870dc20aacb53d0af6"
    }
   }
  }
 },
 "nbformat": 4,
 "nbformat_minor": 2,
 "cells": [
  {
   "source": [],
   "cell_type": "markdown",
   "metadata": {}
  },
  {
   "source": [
    "1、项目信息输入：\n",
    "按照提示进行录入以下信息：\n",
    "1、企业名称\n",
    "2、主办人员\n",
    "3、总金额\n",
    "4、方案对象（会提示录入新的信息）"
   ],
   "cell_type": "markdown",
   "metadata": {}
  },
  {
   "cell_type": "code",
   "execution_count": 8,
   "metadata": {},
   "outputs": [
    {
     "output_type": "error",
     "ename": "AttributeError",
     "evalue": "'Loans' object has no attribute 'Loans'",
     "traceback": [
      "\u001b[1;31m---------------------------------------------------------------------------\u001b[0m",
      "\u001b[1;31mAttributeError\u001b[0m                            Traceback (most recent call last)",
      "\u001b[1;32m<ipython-input-8-8bedcb05f80d>\u001b[0m in \u001b[0;36m<module>\u001b[1;34m\u001b[0m\n\u001b[0;32m      7\u001b[0m \u001b[0mamount\u001b[0m \u001b[1;33m=\u001b[0m \u001b[1;36m9000\u001b[0m\u001b[1;33m\u001b[0m\u001b[1;33m\u001b[0m\u001b[0m\n\u001b[0;32m      8\u001b[0m \u001b[0mprod\u001b[0m \u001b[1;33m=\u001b[0m \u001b[0mprod\u001b[0m\u001b[1;33m.\u001b[0m\u001b[0mLoans\u001b[0m\u001b[1;33m(\u001b[0m\u001b[0mamount\u001b[0m\u001b[1;33m)\u001b[0m\u001b[1;33m\u001b[0m\u001b[1;33m\u001b[0m\u001b[0m\n\u001b[1;32m----> 9\u001b[1;33m \u001b[0mprod2\u001b[0m \u001b[1;33m=\u001b[0m \u001b[0mprod\u001b[0m\u001b[1;33m.\u001b[0m\u001b[0mLoans\u001b[0m\u001b[1;33m(\u001b[0m\u001b[0mamount\u001b[0m\u001b[1;33m)\u001b[0m\u001b[1;33m\u001b[0m\u001b[1;33m\u001b[0m\u001b[0m\n\u001b[0m\u001b[0;32m     10\u001b[0m \u001b[0mp\u001b[0m \u001b[1;33m=\u001b[0m \u001b[0mproj\u001b[0m\u001b[1;33m.\u001b[0m\u001b[0mInflow\u001b[0m\u001b[1;33m(\u001b[0m\u001b[0mname\u001b[0m\u001b[1;33m,\u001b[0m \u001b[0mmember\u001b[0m\u001b[1;33m)\u001b[0m\u001b[1;33m\u001b[0m\u001b[1;33m\u001b[0m\u001b[0m\n\u001b[0;32m     11\u001b[0m \u001b[0mp\u001b[0m\u001b[1;33m.\u001b[0m\u001b[0mscheme_add\u001b[0m\u001b[1;33m(\u001b[0m\u001b[0mprod\u001b[0m\u001b[1;33m)\u001b[0m\u001b[1;33m\u001b[0m\u001b[1;33m\u001b[0m\u001b[0m\n",
      "\u001b[1;31mAttributeError\u001b[0m: 'Loans' object has no attribute 'Loans'"
     ]
    }
   ],
   "source": [
    "#1、新增授信项目\n",
    "from bin import pool, prod, proj\n",
    "# 项目的基本要素\n",
    "name = '宜昌东阳光药业股份有限公司'\n",
    "member = '杨佳琪'\n",
    "# 贷款产品的要素\n",
    "amount = 9000\n",
    "pd = prod.Loans(amount)\n",
    "pd2 = prod.Loans(amount)\n",
    "pj = proj.Inflow(name, member)\n",
    "pj.scheme_add(pd)\n",
    "pj.scheme_add(pd2)\n",
    "p.scheme_info()\n",
    "# pool = pool.Pool()\n",
    "# pool.insert(p, 'inflow')\n",
    "\n"
   ]
  },
  {
   "cell_type": "code",
   "execution_count": null,
   "metadata": {},
   "outputs": [],
   "source": [
    "from bin import conf, pool\n",
    "x = pool.Pool()"
   ]
  }
 ]
}